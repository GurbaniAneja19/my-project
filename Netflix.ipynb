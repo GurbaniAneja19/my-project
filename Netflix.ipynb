{
 "cells": [
  {
   "cell_type": "markdown",
   "id": "80643c1a-5963-4287-9047-2f1ced902089",
   "metadata": {},
   "source": [
    "## **`NETFLIX`**"
   ]
  },
  {
   "cell_type": "markdown",
   "id": "203bcdd2-c9bb-43fc-a83e-aab0ff3f1f4e",
   "metadata": {},
   "source": [
    "**IMPORT ESSENTIAL LIBRARIES**"
   ]
  },
  {
   "cell_type": "code",
   "execution_count": 756,
   "id": "541bbecd-069b-447c-9092-37064f84be30",
   "metadata": {},
   "outputs": [],
   "source": [
    "import pandas as pd #for data analysis\n",
    "import numpy as np  #for numerical analysis\n",
    "import matplotlib.pyplot as plt #for data visualisation"
   ]
  },
  {
   "cell_type": "markdown",
   "id": "63588308-bbfb-4e05-8405-b307a7bd40b1",
   "metadata": {},
   "source": [
    "**READING DATASET**"
   ]
  },
  {
   "cell_type": "code",
   "execution_count": 560,
   "id": "dace8103-f7c9-46f5-b8a8-1ed77f883e1b",
   "metadata": {},
   "outputs": [
    {
     "name": "stdout",
     "output_type": "stream",
     "text": [
      "       show_id     type                                        title  \\\n",
      "0     81145628    Movie      Norm of the North: King Sized Adventure   \n",
      "1     80117401    Movie                   Jandino: Whatever it Takes   \n",
      "2     70234439  TV Show                           Transformers Prime   \n",
      "3     80058654  TV Show             Transformers: Robots in Disguise   \n",
      "4     80125979    Movie                                 #realityhigh   \n",
      "...        ...      ...                                          ...   \n",
      "6229  80000063  TV Show                                 Red vs. Blue   \n",
      "6230  70286564  TV Show                                        Maron   \n",
      "6231  80116008    Movie       Little Baby Bum: Nursery Rhyme Friends   \n",
      "6232  70281022  TV Show  A Young Doctor's Notebook and Other Stories   \n",
      "6233  70153404  TV Show                                      Friends   \n",
      "\n",
      "                      director  \\\n",
      "0     Richard Finn, Tim Maltby   \n",
      "1                          NaN   \n",
      "2                          NaN   \n",
      "3                          NaN   \n",
      "4             Fernando Lebrija   \n",
      "...                        ...   \n",
      "6229                       NaN   \n",
      "6230                       NaN   \n",
      "6231                       NaN   \n",
      "6232                       NaN   \n",
      "6233                       NaN   \n",
      "\n",
      "                                                   cast  \\\n",
      "0     Alan Marriott, Andrew Toth, Brian Dobson, Cole...   \n",
      "1                                      Jandino Asporaat   \n",
      "2     Peter Cullen, Sumalee Montano, Frank Welker, J...   \n",
      "3     Will Friedle, Darren Criss, Constance Zimmer, ...   \n",
      "4     Nesta Cooper, Kate Walsh, John Michael Higgins...   \n",
      "...                                                 ...   \n",
      "6229  Burnie Burns, Jason Saldaña, Gustavo Sorola, G...   \n",
      "6230  Marc Maron, Judd Hirsch, Josh Brener, Nora Zeh...   \n",
      "6231                                                NaN   \n",
      "6232  Daniel Radcliffe, Jon Hamm, Adam Godley, Chris...   \n",
      "6233  Jennifer Aniston, Courteney Cox, Lisa Kudrow, ...   \n",
      "\n",
      "                                       country         date_added  \\\n",
      "0     United States, India, South Korea, China  September 9, 2019   \n",
      "1                               United Kingdom  September 9, 2016   \n",
      "2                                United States  September 8, 2018   \n",
      "3                                United States  September 8, 2018   \n",
      "4                                United States  September 8, 2017   \n",
      "...                                        ...                ...   \n",
      "6229                             United States                NaN   \n",
      "6230                             United States                NaN   \n",
      "6231                                       NaN                NaN   \n",
      "6232                            United Kingdom                NaN   \n",
      "6233                             United States                NaN   \n",
      "\n",
      "      release_year    rating    duration  \\\n",
      "0             2019     TV-PG      90 min   \n",
      "1             2016     TV-MA      94 min   \n",
      "2             2013  TV-Y7-FV    1 Season   \n",
      "3             2016     TV-Y7    1 Season   \n",
      "4             2017     TV-14      99 min   \n",
      "...            ...       ...         ...   \n",
      "6229          2015        NR  13 Seasons   \n",
      "6230          2016     TV-MA   4 Seasons   \n",
      "6231          2016       NaN      60 min   \n",
      "6232          2013     TV-MA   2 Seasons   \n",
      "6233          2003     TV-14  10 Seasons   \n",
      "\n",
      "                                              listed_in  \\\n",
      "0                    Children & Family Movies, Comedies   \n",
      "1                                       Stand-Up Comedy   \n",
      "2                                              Kids' TV   \n",
      "3                                              Kids' TV   \n",
      "4                                              Comedies   \n",
      "...                                                 ...   \n",
      "6229  TV Action & Adventure, TV Comedies, TV Sci-Fi ...   \n",
      "6230                                        TV Comedies   \n",
      "6231                                             Movies   \n",
      "6232           British TV Shows, TV Comedies, TV Dramas   \n",
      "6233                     Classic & Cult TV, TV Comedies   \n",
      "\n",
      "                                            description  \n",
      "0     Before planning an awesome wedding for his gra...  \n",
      "1     Jandino Asporaat riffs on the challenges of ra...  \n",
      "2     With the help of three human allies, the Autob...  \n",
      "3     When a prison ship crash unleashes hundreds of...  \n",
      "4     When nerdy high schooler Dani finally attracts...  \n",
      "...                                                 ...  \n",
      "6229  This parody of first-person shooter games, mil...  \n",
      "6230  Marc Maron stars as Marc Maron, who interviews...  \n",
      "6231  Nursery rhymes and original music for children...  \n",
      "6232  Set during the Russian Revolution, this comic ...  \n",
      "6233  This hit sitcom follows the merry misadventure...  \n",
      "\n",
      "[6234 rows x 12 columns]\n"
     ]
    }
   ],
   "source": [
    "df=pd.read_csv(\"netflix.csv\") # for reading csv file\n"
   ]
  },
  {
   "cell_type": "markdown",
   "id": "aa65d87d-aa1c-4ec6-b524-51f9c27603fe",
   "metadata": {},
   "source": [
    "**DATASET FIRST VIEW**"
   ]
  },
  {
   "cell_type": "code",
   "execution_count": 563,
   "id": "e8f90087-7599-404c-9b37-30b90e7e4f6a",
   "metadata": {},
   "outputs": [
    {
     "data": {
      "text/html": [
       "<div>\n",
       "<style scoped>\n",
       "    .dataframe tbody tr th:only-of-type {\n",
       "        vertical-align: middle;\n",
       "    }\n",
       "\n",
       "    .dataframe tbody tr th {\n",
       "        vertical-align: top;\n",
       "    }\n",
       "\n",
       "    .dataframe thead th {\n",
       "        text-align: right;\n",
       "    }\n",
       "</style>\n",
       "<table border=\"1\" class=\"dataframe\">\n",
       "  <thead>\n",
       "    <tr style=\"text-align: right;\">\n",
       "      <th></th>\n",
       "      <th>show_id</th>\n",
       "      <th>type</th>\n",
       "      <th>title</th>\n",
       "      <th>director</th>\n",
       "      <th>cast</th>\n",
       "      <th>country</th>\n",
       "      <th>date_added</th>\n",
       "      <th>release_year</th>\n",
       "      <th>rating</th>\n",
       "      <th>duration</th>\n",
       "      <th>listed_in</th>\n",
       "      <th>description</th>\n",
       "    </tr>\n",
       "  </thead>\n",
       "  <tbody>\n",
       "    <tr>\n",
       "      <th>0</th>\n",
       "      <td>81145628</td>\n",
       "      <td>Movie</td>\n",
       "      <td>Norm of the North: King Sized Adventure</td>\n",
       "      <td>Richard Finn, Tim Maltby</td>\n",
       "      <td>Alan Marriott, Andrew Toth, Brian Dobson, Cole...</td>\n",
       "      <td>United States, India, South Korea, China</td>\n",
       "      <td>September 9, 2019</td>\n",
       "      <td>2019</td>\n",
       "      <td>TV-PG</td>\n",
       "      <td>90 min</td>\n",
       "      <td>Children &amp; Family Movies, Comedies</td>\n",
       "      <td>Before planning an awesome wedding for his gra...</td>\n",
       "    </tr>\n",
       "    <tr>\n",
       "      <th>1</th>\n",
       "      <td>80117401</td>\n",
       "      <td>Movie</td>\n",
       "      <td>Jandino: Whatever it Takes</td>\n",
       "      <td>NaN</td>\n",
       "      <td>Jandino Asporaat</td>\n",
       "      <td>United Kingdom</td>\n",
       "      <td>September 9, 2016</td>\n",
       "      <td>2016</td>\n",
       "      <td>TV-MA</td>\n",
       "      <td>94 min</td>\n",
       "      <td>Stand-Up Comedy</td>\n",
       "      <td>Jandino Asporaat riffs on the challenges of ra...</td>\n",
       "    </tr>\n",
       "    <tr>\n",
       "      <th>2</th>\n",
       "      <td>70234439</td>\n",
       "      <td>TV Show</td>\n",
       "      <td>Transformers Prime</td>\n",
       "      <td>NaN</td>\n",
       "      <td>Peter Cullen, Sumalee Montano, Frank Welker, J...</td>\n",
       "      <td>United States</td>\n",
       "      <td>September 8, 2018</td>\n",
       "      <td>2013</td>\n",
       "      <td>TV-Y7-FV</td>\n",
       "      <td>1 Season</td>\n",
       "      <td>Kids' TV</td>\n",
       "      <td>With the help of three human allies, the Autob...</td>\n",
       "    </tr>\n",
       "    <tr>\n",
       "      <th>3</th>\n",
       "      <td>80058654</td>\n",
       "      <td>TV Show</td>\n",
       "      <td>Transformers: Robots in Disguise</td>\n",
       "      <td>NaN</td>\n",
       "      <td>Will Friedle, Darren Criss, Constance Zimmer, ...</td>\n",
       "      <td>United States</td>\n",
       "      <td>September 8, 2018</td>\n",
       "      <td>2016</td>\n",
       "      <td>TV-Y7</td>\n",
       "      <td>1 Season</td>\n",
       "      <td>Kids' TV</td>\n",
       "      <td>When a prison ship crash unleashes hundreds of...</td>\n",
       "    </tr>\n",
       "    <tr>\n",
       "      <th>4</th>\n",
       "      <td>80125979</td>\n",
       "      <td>Movie</td>\n",
       "      <td>#realityhigh</td>\n",
       "      <td>Fernando Lebrija</td>\n",
       "      <td>Nesta Cooper, Kate Walsh, John Michael Higgins...</td>\n",
       "      <td>United States</td>\n",
       "      <td>September 8, 2017</td>\n",
       "      <td>2017</td>\n",
       "      <td>TV-14</td>\n",
       "      <td>99 min</td>\n",
       "      <td>Comedies</td>\n",
       "      <td>When nerdy high schooler Dani finally attracts...</td>\n",
       "    </tr>\n",
       "  </tbody>\n",
       "</table>\n",
       "</div>"
      ],
      "text/plain": [
       "    show_id     type                                    title  \\\n",
       "0  81145628    Movie  Norm of the North: King Sized Adventure   \n",
       "1  80117401    Movie               Jandino: Whatever it Takes   \n",
       "2  70234439  TV Show                       Transformers Prime   \n",
       "3  80058654  TV Show         Transformers: Robots in Disguise   \n",
       "4  80125979    Movie                             #realityhigh   \n",
       "\n",
       "                   director  \\\n",
       "0  Richard Finn, Tim Maltby   \n",
       "1                       NaN   \n",
       "2                       NaN   \n",
       "3                       NaN   \n",
       "4          Fernando Lebrija   \n",
       "\n",
       "                                                cast  \\\n",
       "0  Alan Marriott, Andrew Toth, Brian Dobson, Cole...   \n",
       "1                                   Jandino Asporaat   \n",
       "2  Peter Cullen, Sumalee Montano, Frank Welker, J...   \n",
       "3  Will Friedle, Darren Criss, Constance Zimmer, ...   \n",
       "4  Nesta Cooper, Kate Walsh, John Michael Higgins...   \n",
       "\n",
       "                                    country         date_added  release_year  \\\n",
       "0  United States, India, South Korea, China  September 9, 2019          2019   \n",
       "1                            United Kingdom  September 9, 2016          2016   \n",
       "2                             United States  September 8, 2018          2013   \n",
       "3                             United States  September 8, 2018          2016   \n",
       "4                             United States  September 8, 2017          2017   \n",
       "\n",
       "     rating  duration                           listed_in  \\\n",
       "0     TV-PG    90 min  Children & Family Movies, Comedies   \n",
       "1     TV-MA    94 min                     Stand-Up Comedy   \n",
       "2  TV-Y7-FV  1 Season                            Kids' TV   \n",
       "3     TV-Y7  1 Season                            Kids' TV   \n",
       "4     TV-14    99 min                            Comedies   \n",
       "\n",
       "                                         description  \n",
       "0  Before planning an awesome wedding for his gra...  \n",
       "1  Jandino Asporaat riffs on the challenges of ra...  \n",
       "2  With the help of three human allies, the Autob...  \n",
       "3  When a prison ship crash unleashes hundreds of...  \n",
       "4  When nerdy high schooler Dani finally attracts...  "
      ]
     },
     "execution_count": 563,
     "metadata": {},
     "output_type": "execute_result"
    }
   ],
   "source": [
    "df.head() # to extract the top 5 rows of the data"
   ]
  },
  {
   "cell_type": "markdown",
   "id": "9452d4c4-9bd1-4557-8e2f-cda836ecfcc3",
   "metadata": {},
   "source": [
    "**OBSERVATION**"
   ]
  },
  {
   "cell_type": "markdown",
   "id": "3ce0fa72-0207-448c-81cb-54b288b914f2",
   "metadata": {},
   "source": [
    "* **df.head() is a function to extract the top 5 rows**\n",
    "* **Here these rows contining different columns are being shown**\n",
    "* **We can also see that the serial number starts from 0**"
   ]
  },
  {
   "cell_type": "code",
   "execution_count": 564,
   "id": "4bff7c55-059b-4cb0-b6f2-ed1d9a425634",
   "metadata": {},
   "outputs": [
    {
     "data": {
      "text/html": [
       "<div>\n",
       "<style scoped>\n",
       "    .dataframe tbody tr th:only-of-type {\n",
       "        vertical-align: middle;\n",
       "    }\n",
       "\n",
       "    .dataframe tbody tr th {\n",
       "        vertical-align: top;\n",
       "    }\n",
       "\n",
       "    .dataframe thead th {\n",
       "        text-align: right;\n",
       "    }\n",
       "</style>\n",
       "<table border=\"1\" class=\"dataframe\">\n",
       "  <thead>\n",
       "    <tr style=\"text-align: right;\">\n",
       "      <th></th>\n",
       "      <th>show_id</th>\n",
       "      <th>type</th>\n",
       "      <th>title</th>\n",
       "      <th>director</th>\n",
       "      <th>cast</th>\n",
       "      <th>country</th>\n",
       "      <th>date_added</th>\n",
       "      <th>release_year</th>\n",
       "      <th>rating</th>\n",
       "      <th>duration</th>\n",
       "      <th>listed_in</th>\n",
       "      <th>description</th>\n",
       "    </tr>\n",
       "  </thead>\n",
       "  <tbody>\n",
       "    <tr>\n",
       "      <th>6229</th>\n",
       "      <td>80000063</td>\n",
       "      <td>TV Show</td>\n",
       "      <td>Red vs. Blue</td>\n",
       "      <td>NaN</td>\n",
       "      <td>Burnie Burns, Jason Saldaña, Gustavo Sorola, G...</td>\n",
       "      <td>United States</td>\n",
       "      <td>NaN</td>\n",
       "      <td>2015</td>\n",
       "      <td>NR</td>\n",
       "      <td>13 Seasons</td>\n",
       "      <td>TV Action &amp; Adventure, TV Comedies, TV Sci-Fi ...</td>\n",
       "      <td>This parody of first-person shooter games, mil...</td>\n",
       "    </tr>\n",
       "    <tr>\n",
       "      <th>6230</th>\n",
       "      <td>70286564</td>\n",
       "      <td>TV Show</td>\n",
       "      <td>Maron</td>\n",
       "      <td>NaN</td>\n",
       "      <td>Marc Maron, Judd Hirsch, Josh Brener, Nora Zeh...</td>\n",
       "      <td>United States</td>\n",
       "      <td>NaN</td>\n",
       "      <td>2016</td>\n",
       "      <td>TV-MA</td>\n",
       "      <td>4 Seasons</td>\n",
       "      <td>TV Comedies</td>\n",
       "      <td>Marc Maron stars as Marc Maron, who interviews...</td>\n",
       "    </tr>\n",
       "    <tr>\n",
       "      <th>6231</th>\n",
       "      <td>80116008</td>\n",
       "      <td>Movie</td>\n",
       "      <td>Little Baby Bum: Nursery Rhyme Friends</td>\n",
       "      <td>NaN</td>\n",
       "      <td>NaN</td>\n",
       "      <td>NaN</td>\n",
       "      <td>NaN</td>\n",
       "      <td>2016</td>\n",
       "      <td>NaN</td>\n",
       "      <td>60 min</td>\n",
       "      <td>Movies</td>\n",
       "      <td>Nursery rhymes and original music for children...</td>\n",
       "    </tr>\n",
       "    <tr>\n",
       "      <th>6232</th>\n",
       "      <td>70281022</td>\n",
       "      <td>TV Show</td>\n",
       "      <td>A Young Doctor's Notebook and Other Stories</td>\n",
       "      <td>NaN</td>\n",
       "      <td>Daniel Radcliffe, Jon Hamm, Adam Godley, Chris...</td>\n",
       "      <td>United Kingdom</td>\n",
       "      <td>NaN</td>\n",
       "      <td>2013</td>\n",
       "      <td>TV-MA</td>\n",
       "      <td>2 Seasons</td>\n",
       "      <td>British TV Shows, TV Comedies, TV Dramas</td>\n",
       "      <td>Set during the Russian Revolution, this comic ...</td>\n",
       "    </tr>\n",
       "    <tr>\n",
       "      <th>6233</th>\n",
       "      <td>70153404</td>\n",
       "      <td>TV Show</td>\n",
       "      <td>Friends</td>\n",
       "      <td>NaN</td>\n",
       "      <td>Jennifer Aniston, Courteney Cox, Lisa Kudrow, ...</td>\n",
       "      <td>United States</td>\n",
       "      <td>NaN</td>\n",
       "      <td>2003</td>\n",
       "      <td>TV-14</td>\n",
       "      <td>10 Seasons</td>\n",
       "      <td>Classic &amp; Cult TV, TV Comedies</td>\n",
       "      <td>This hit sitcom follows the merry misadventure...</td>\n",
       "    </tr>\n",
       "  </tbody>\n",
       "</table>\n",
       "</div>"
      ],
      "text/plain": [
       "       show_id     type                                        title director  \\\n",
       "6229  80000063  TV Show                                 Red vs. Blue      NaN   \n",
       "6230  70286564  TV Show                                        Maron      NaN   \n",
       "6231  80116008    Movie       Little Baby Bum: Nursery Rhyme Friends      NaN   \n",
       "6232  70281022  TV Show  A Young Doctor's Notebook and Other Stories      NaN   \n",
       "6233  70153404  TV Show                                      Friends      NaN   \n",
       "\n",
       "                                                   cast         country  \\\n",
       "6229  Burnie Burns, Jason Saldaña, Gustavo Sorola, G...   United States   \n",
       "6230  Marc Maron, Judd Hirsch, Josh Brener, Nora Zeh...   United States   \n",
       "6231                                                NaN             NaN   \n",
       "6232  Daniel Radcliffe, Jon Hamm, Adam Godley, Chris...  United Kingdom   \n",
       "6233  Jennifer Aniston, Courteney Cox, Lisa Kudrow, ...   United States   \n",
       "\n",
       "     date_added  release_year rating    duration  \\\n",
       "6229        NaN          2015     NR  13 Seasons   \n",
       "6230        NaN          2016  TV-MA   4 Seasons   \n",
       "6231        NaN          2016    NaN      60 min   \n",
       "6232        NaN          2013  TV-MA   2 Seasons   \n",
       "6233        NaN          2003  TV-14  10 Seasons   \n",
       "\n",
       "                                              listed_in  \\\n",
       "6229  TV Action & Adventure, TV Comedies, TV Sci-Fi ...   \n",
       "6230                                        TV Comedies   \n",
       "6231                                             Movies   \n",
       "6232           British TV Shows, TV Comedies, TV Dramas   \n",
       "6233                     Classic & Cult TV, TV Comedies   \n",
       "\n",
       "                                            description  \n",
       "6229  This parody of first-person shooter games, mil...  \n",
       "6230  Marc Maron stars as Marc Maron, who interviews...  \n",
       "6231  Nursery rhymes and original music for children...  \n",
       "6232  Set during the Russian Revolution, this comic ...  \n",
       "6233  This hit sitcom follows the merry misadventure...  "
      ]
     },
     "execution_count": 564,
     "metadata": {},
     "output_type": "execute_result"
    }
   ],
   "source": [
    "df.tail() # to extract the last 5 rows of the data"
   ]
  },
  {
   "cell_type": "markdown",
   "id": "a26b11eb-f49d-4bb5-962f-68d9d9592581",
   "metadata": {},
   "source": [
    "**OBSERVATION**"
   ]
  },
  {
   "cell_type": "markdown",
   "id": "76b0acd5-74b9-4b75-9aaa-b960c214d806",
   "metadata": {},
   "source": [
    "* **df.tail() is a function to extract the last 5 rows** \n",
    "* **the total number of rows were 6234**"
   ]
  },
  {
   "cell_type": "markdown",
   "id": "6ab6a937-41ed-4f66-bc08-3057e0504318",
   "metadata": {},
   "source": [
    "**DATASETS ROW AND COLUMN COUNT**"
   ]
  },
  {
   "cell_type": "code",
   "execution_count": 779,
   "id": "cee59967-0498-4743-89b2-72501412fc5f",
   "metadata": {},
   "outputs": [
    {
     "data": {
      "text/plain": [
       "(3774, 17)"
      ]
     },
     "execution_count": 779,
     "metadata": {},
     "output_type": "execute_result"
    }
   ],
   "source": [
    "df.shape #to get the knowledge of the row and column count"
   ]
  },
  {
   "cell_type": "markdown",
   "id": "b6041c69-9964-4909-89fa-9bb7abb28b0d",
   "metadata": {},
   "source": [
    "**Observation**"
   ]
  },
  {
   "cell_type": "markdown",
   "id": "0202e88d-fd9e-41b1-bd76-abf60e27c1e3",
   "metadata": {},
   "source": [
    "* **We can see that there are total of 3774 rows**\n",
    "* **no. of columns are 17**\n",
    "* **We combined the count of rows and column in tupple form**"
   ]
  },
  {
   "cell_type": "markdown",
   "id": "7dfe345e-6f02-4122-ac8d-5059e1da9f66",
   "metadata": {},
   "source": [
    "**DATASET INFORMATION**"
   ]
  },
  {
   "cell_type": "code",
   "execution_count": 830,
   "id": "c4acf022-fdd3-44a6-bef8-f9069786727a",
   "metadata": {},
   "outputs": [
    {
     "name": "stdout",
     "output_type": "stream",
     "text": [
      "<class 'pandas.core.frame.DataFrame'>\n",
      "Index: 3774 entries, 0 to 6213\n",
      "Data columns (total 17 columns):\n",
      " #   Column           Non-Null Count  Dtype         \n",
      "---  ------           --------------  -----         \n",
      " 0   show_id          3774 non-null   int64         \n",
      " 1   type             3774 non-null   object        \n",
      " 2   title            3774 non-null   object        \n",
      " 3   director         3774 non-null   object        \n",
      " 4   cast             3774 non-null   object        \n",
      " 5   country          3774 non-null   object        \n",
      " 6   date_added       3774 non-null   datetime64[ns]\n",
      " 7   release_year     3774 non-null   int64         \n",
      " 8   rating           3774 non-null   object        \n",
      " 9   duration         3774 non-null   object        \n",
      " 10  listed_in        3774 non-null   object        \n",
      " 11  description      3774 non-null   object        \n",
      " 12  year_Added       3774 non-null   int32         \n",
      " 13  month            3774 non-null   int32         \n",
      " 14  description_len  3774 non-null   int64         \n",
      " 15  title_word       3774 non-null   int64         \n",
      " 16  decade           3774 non-null   int64         \n",
      "dtypes: datetime64[ns](1), int32(2), int64(5), object(9)\n",
      "memory usage: 630.3+ KB\n"
     ]
    }
   ],
   "source": [
    "df.info() # to know about the null values and datatype according to column"
   ]
  },
  {
   "cell_type": "markdown",
   "id": "78897b15-a531-4a85-8171-19537fee9724",
   "metadata": {},
   "source": [
    "**Observation**"
   ]
  },
  {
   "cell_type": "markdown",
   "id": "47bfb2ce-68e1-438b-88d8-f0067d4415fd",
   "metadata": {},
   "source": [
    "* **From the above code we can see there are no null values**\n",
    "* **We can see a mixture of datatypes such as int, object**"
   ]
  },
  {
   "cell_type": "markdown",
   "id": "60c595ba-acb0-4fef-9c27-847daece5ae3",
   "metadata": {},
   "source": [
    "**DATA DUPLICATE VALUES**"
   ]
  },
  {
   "cell_type": "code",
   "execution_count": 835,
   "id": "3126825e-d6a9-4d76-92fb-7b28a9da510b",
   "metadata": {},
   "outputs": [
    {
     "data": {
      "text/html": [
       "<div>\n",
       "<style scoped>\n",
       "    .dataframe tbody tr th:only-of-type {\n",
       "        vertical-align: middle;\n",
       "    }\n",
       "\n",
       "    .dataframe tbody tr th {\n",
       "        vertical-align: top;\n",
       "    }\n",
       "\n",
       "    .dataframe thead th {\n",
       "        text-align: right;\n",
       "    }\n",
       "</style>\n",
       "<table border=\"1\" class=\"dataframe\">\n",
       "  <thead>\n",
       "    <tr style=\"text-align: right;\">\n",
       "      <th></th>\n",
       "      <th>show_id</th>\n",
       "      <th>type</th>\n",
       "      <th>title</th>\n",
       "      <th>director</th>\n",
       "      <th>cast</th>\n",
       "      <th>country</th>\n",
       "      <th>date_added</th>\n",
       "      <th>release_year</th>\n",
       "      <th>rating</th>\n",
       "      <th>duration</th>\n",
       "      <th>listed_in</th>\n",
       "      <th>description</th>\n",
       "      <th>year_Added</th>\n",
       "      <th>month</th>\n",
       "      <th>description_len</th>\n",
       "      <th>title_word</th>\n",
       "      <th>decade</th>\n",
       "    </tr>\n",
       "  </thead>\n",
       "  <tbody>\n",
       "  </tbody>\n",
       "</table>\n",
       "</div>"
      ],
      "text/plain": [
       "Empty DataFrame\n",
       "Columns: [show_id, type, title, director, cast, country, date_added, release_year, rating, duration, listed_in, description, year_Added, month, description_len, title_word, decade]\n",
       "Index: []"
      ]
     },
     "execution_count": 835,
     "metadata": {},
     "output_type": "execute_result"
    }
   ],
   "source": [
    "df[df.duplicated()] # to know about the duplicate values"
   ]
  },
  {
   "cell_type": "code",
   "execution_count": 837,
   "id": "eea97103-1123-4e5a-8841-94e2378d094c",
   "metadata": {},
   "outputs": [
    {
     "data": {
      "text/plain": [
       "0"
      ]
     },
     "execution_count": 837,
     "metadata": {},
     "output_type": "execute_result"
    }
   ],
   "source": [
    "len(df[df.duplicated()]) # to know about the length of the duplicate values"
   ]
  },
  {
   "cell_type": "markdown",
   "id": "6f04aa08-639f-4ebb-af6f-e4ce43236646",
   "metadata": {},
   "source": [
    "**OBSERVATION**"
   ]
  },
  {
   "cell_type": "markdown",
   "id": "a9b57425-4a96-4e87-8a66-a13dac1f2c01",
   "metadata": {},
   "source": [
    "* **There are no duplicate values or zero duplicate values**"
   ]
  },
  {
   "cell_type": "markdown",
   "id": "fac6aaa3-a114-4e4d-a444-10de9a9fe1f4",
   "metadata": {},
   "source": [
    "**MISSING VALUES/NULL VALUES**"
   ]
  },
  {
   "cell_type": "code",
   "execution_count": 842,
   "id": "6b136f51-f26b-4d16-9f22-dbe1e0b2d72e",
   "metadata": {},
   "outputs": [
    {
     "data": {
      "text/html": [
       "<div>\n",
       "<style scoped>\n",
       "    .dataframe tbody tr th:only-of-type {\n",
       "        vertical-align: middle;\n",
       "    }\n",
       "\n",
       "    .dataframe tbody tr th {\n",
       "        vertical-align: top;\n",
       "    }\n",
       "\n",
       "    .dataframe thead th {\n",
       "        text-align: right;\n",
       "    }\n",
       "</style>\n",
       "<table border=\"1\" class=\"dataframe\">\n",
       "  <thead>\n",
       "    <tr style=\"text-align: right;\">\n",
       "      <th></th>\n",
       "      <th>show_id</th>\n",
       "      <th>type</th>\n",
       "      <th>title</th>\n",
       "      <th>director</th>\n",
       "      <th>cast</th>\n",
       "      <th>country</th>\n",
       "      <th>date_added</th>\n",
       "      <th>release_year</th>\n",
       "      <th>rating</th>\n",
       "      <th>duration</th>\n",
       "      <th>listed_in</th>\n",
       "      <th>description</th>\n",
       "      <th>year_Added</th>\n",
       "      <th>month</th>\n",
       "      <th>description_len</th>\n",
       "      <th>title_word</th>\n",
       "      <th>decade</th>\n",
       "    </tr>\n",
       "  </thead>\n",
       "  <tbody>\n",
       "    <tr>\n",
       "      <th>0</th>\n",
       "      <td>False</td>\n",
       "      <td>False</td>\n",
       "      <td>False</td>\n",
       "      <td>False</td>\n",
       "      <td>False</td>\n",
       "      <td>False</td>\n",
       "      <td>False</td>\n",
       "      <td>False</td>\n",
       "      <td>False</td>\n",
       "      <td>False</td>\n",
       "      <td>False</td>\n",
       "      <td>False</td>\n",
       "      <td>False</td>\n",
       "      <td>False</td>\n",
       "      <td>False</td>\n",
       "      <td>False</td>\n",
       "      <td>False</td>\n",
       "    </tr>\n",
       "    <tr>\n",
       "      <th>4</th>\n",
       "      <td>False</td>\n",
       "      <td>False</td>\n",
       "      <td>False</td>\n",
       "      <td>False</td>\n",
       "      <td>False</td>\n",
       "      <td>False</td>\n",
       "      <td>False</td>\n",
       "      <td>False</td>\n",
       "      <td>False</td>\n",
       "      <td>False</td>\n",
       "      <td>False</td>\n",
       "      <td>False</td>\n",
       "      <td>False</td>\n",
       "      <td>False</td>\n",
       "      <td>False</td>\n",
       "      <td>False</td>\n",
       "      <td>False</td>\n",
       "    </tr>\n",
       "    <tr>\n",
       "      <th>6</th>\n",
       "      <td>False</td>\n",
       "      <td>False</td>\n",
       "      <td>False</td>\n",
       "      <td>False</td>\n",
       "      <td>False</td>\n",
       "      <td>False</td>\n",
       "      <td>False</td>\n",
       "      <td>False</td>\n",
       "      <td>False</td>\n",
       "      <td>False</td>\n",
       "      <td>False</td>\n",
       "      <td>False</td>\n",
       "      <td>False</td>\n",
       "      <td>False</td>\n",
       "      <td>False</td>\n",
       "      <td>False</td>\n",
       "      <td>False</td>\n",
       "    </tr>\n",
       "    <tr>\n",
       "      <th>7</th>\n",
       "      <td>False</td>\n",
       "      <td>False</td>\n",
       "      <td>False</td>\n",
       "      <td>False</td>\n",
       "      <td>False</td>\n",
       "      <td>False</td>\n",
       "      <td>False</td>\n",
       "      <td>False</td>\n",
       "      <td>False</td>\n",
       "      <td>False</td>\n",
       "      <td>False</td>\n",
       "      <td>False</td>\n",
       "      <td>False</td>\n",
       "      <td>False</td>\n",
       "      <td>False</td>\n",
       "      <td>False</td>\n",
       "      <td>False</td>\n",
       "    </tr>\n",
       "    <tr>\n",
       "      <th>9</th>\n",
       "      <td>False</td>\n",
       "      <td>False</td>\n",
       "      <td>False</td>\n",
       "      <td>False</td>\n",
       "      <td>False</td>\n",
       "      <td>False</td>\n",
       "      <td>False</td>\n",
       "      <td>False</td>\n",
       "      <td>False</td>\n",
       "      <td>False</td>\n",
       "      <td>False</td>\n",
       "      <td>False</td>\n",
       "      <td>False</td>\n",
       "      <td>False</td>\n",
       "      <td>False</td>\n",
       "      <td>False</td>\n",
       "      <td>False</td>\n",
       "    </tr>\n",
       "    <tr>\n",
       "      <th>...</th>\n",
       "      <td>...</td>\n",
       "      <td>...</td>\n",
       "      <td>...</td>\n",
       "      <td>...</td>\n",
       "      <td>...</td>\n",
       "      <td>...</td>\n",
       "      <td>...</td>\n",
       "      <td>...</td>\n",
       "      <td>...</td>\n",
       "      <td>...</td>\n",
       "      <td>...</td>\n",
       "      <td>...</td>\n",
       "      <td>...</td>\n",
       "      <td>...</td>\n",
       "      <td>...</td>\n",
       "      <td>...</td>\n",
       "      <td>...</td>\n",
       "    </tr>\n",
       "    <tr>\n",
       "      <th>6142</th>\n",
       "      <td>False</td>\n",
       "      <td>False</td>\n",
       "      <td>False</td>\n",
       "      <td>False</td>\n",
       "      <td>False</td>\n",
       "      <td>False</td>\n",
       "      <td>False</td>\n",
       "      <td>False</td>\n",
       "      <td>False</td>\n",
       "      <td>False</td>\n",
       "      <td>False</td>\n",
       "      <td>False</td>\n",
       "      <td>False</td>\n",
       "      <td>False</td>\n",
       "      <td>False</td>\n",
       "      <td>False</td>\n",
       "      <td>False</td>\n",
       "    </tr>\n",
       "    <tr>\n",
       "      <th>6158</th>\n",
       "      <td>False</td>\n",
       "      <td>False</td>\n",
       "      <td>False</td>\n",
       "      <td>False</td>\n",
       "      <td>False</td>\n",
       "      <td>False</td>\n",
       "      <td>False</td>\n",
       "      <td>False</td>\n",
       "      <td>False</td>\n",
       "      <td>False</td>\n",
       "      <td>False</td>\n",
       "      <td>False</td>\n",
       "      <td>False</td>\n",
       "      <td>False</td>\n",
       "      <td>False</td>\n",
       "      <td>False</td>\n",
       "      <td>False</td>\n",
       "    </tr>\n",
       "    <tr>\n",
       "      <th>6167</th>\n",
       "      <td>False</td>\n",
       "      <td>False</td>\n",
       "      <td>False</td>\n",
       "      <td>False</td>\n",
       "      <td>False</td>\n",
       "      <td>False</td>\n",
       "      <td>False</td>\n",
       "      <td>False</td>\n",
       "      <td>False</td>\n",
       "      <td>False</td>\n",
       "      <td>False</td>\n",
       "      <td>False</td>\n",
       "      <td>False</td>\n",
       "      <td>False</td>\n",
       "      <td>False</td>\n",
       "      <td>False</td>\n",
       "      <td>False</td>\n",
       "    </tr>\n",
       "    <tr>\n",
       "      <th>6182</th>\n",
       "      <td>False</td>\n",
       "      <td>False</td>\n",
       "      <td>False</td>\n",
       "      <td>False</td>\n",
       "      <td>False</td>\n",
       "      <td>False</td>\n",
       "      <td>False</td>\n",
       "      <td>False</td>\n",
       "      <td>False</td>\n",
       "      <td>False</td>\n",
       "      <td>False</td>\n",
       "      <td>False</td>\n",
       "      <td>False</td>\n",
       "      <td>False</td>\n",
       "      <td>False</td>\n",
       "      <td>False</td>\n",
       "      <td>False</td>\n",
       "    </tr>\n",
       "    <tr>\n",
       "      <th>6213</th>\n",
       "      <td>False</td>\n",
       "      <td>False</td>\n",
       "      <td>False</td>\n",
       "      <td>False</td>\n",
       "      <td>False</td>\n",
       "      <td>False</td>\n",
       "      <td>False</td>\n",
       "      <td>False</td>\n",
       "      <td>False</td>\n",
       "      <td>False</td>\n",
       "      <td>False</td>\n",
       "      <td>False</td>\n",
       "      <td>False</td>\n",
       "      <td>False</td>\n",
       "      <td>False</td>\n",
       "      <td>False</td>\n",
       "      <td>False</td>\n",
       "    </tr>\n",
       "  </tbody>\n",
       "</table>\n",
       "<p>3774 rows × 17 columns</p>\n",
       "</div>"
      ],
      "text/plain": [
       "      show_id   type  title  director   cast  country  date_added  \\\n",
       "0       False  False  False     False  False    False       False   \n",
       "4       False  False  False     False  False    False       False   \n",
       "6       False  False  False     False  False    False       False   \n",
       "7       False  False  False     False  False    False       False   \n",
       "9       False  False  False     False  False    False       False   \n",
       "...       ...    ...    ...       ...    ...      ...         ...   \n",
       "6142    False  False  False     False  False    False       False   \n",
       "6158    False  False  False     False  False    False       False   \n",
       "6167    False  False  False     False  False    False       False   \n",
       "6182    False  False  False     False  False    False       False   \n",
       "6213    False  False  False     False  False    False       False   \n",
       "\n",
       "      release_year  rating  duration  listed_in  description  year_Added  \\\n",
       "0            False   False     False      False        False       False   \n",
       "4            False   False     False      False        False       False   \n",
       "6            False   False     False      False        False       False   \n",
       "7            False   False     False      False        False       False   \n",
       "9            False   False     False      False        False       False   \n",
       "...            ...     ...       ...        ...          ...         ...   \n",
       "6142         False   False     False      False        False       False   \n",
       "6158         False   False     False      False        False       False   \n",
       "6167         False   False     False      False        False       False   \n",
       "6182         False   False     False      False        False       False   \n",
       "6213         False   False     False      False        False       False   \n",
       "\n",
       "      month  description_len  title_word  decade  \n",
       "0     False            False       False   False  \n",
       "4     False            False       False   False  \n",
       "6     False            False       False   False  \n",
       "7     False            False       False   False  \n",
       "9     False            False       False   False  \n",
       "...     ...              ...         ...     ...  \n",
       "6142  False            False       False   False  \n",
       "6158  False            False       False   False  \n",
       "6167  False            False       False   False  \n",
       "6182  False            False       False   False  \n",
       "6213  False            False       False   False  \n",
       "\n",
       "[3774 rows x 17 columns]"
      ]
     },
     "execution_count": 842,
     "metadata": {},
     "output_type": "execute_result"
    }
   ],
   "source": [
    "df.isnull() # to know about the null values"
   ]
  },
  {
   "cell_type": "code",
   "execution_count": 811,
   "id": "e18cbf83-c20a-4688-96ec-d5fa3991a287",
   "metadata": {},
   "outputs": [
    {
     "data": {
      "text/plain": [
       "show_id            0\n",
       "type               0\n",
       "title              0\n",
       "director           0\n",
       "cast               0\n",
       "country            0\n",
       "date_added         0\n",
       "release_year       0\n",
       "rating             0\n",
       "duration           0\n",
       "listed_in          0\n",
       "description        0\n",
       "year_Added         0\n",
       "month              0\n",
       "description_len    0\n",
       "title_word         0\n",
       "decade             0\n",
       "dtype: int64"
      ]
     },
     "execution_count": 811,
     "metadata": {},
     "output_type": "execute_result"
    }
   ],
   "source": [
    "df.isnull().sum() # to sum the null values in each column"
   ]
  },
  {
   "cell_type": "markdown",
   "id": "f08834a0-4fe6-4cef-99d3-950341a17030",
   "metadata": {},
   "source": [
    "**OBSERVATION**"
   ]
  },
  {
   "cell_type": "markdown",
   "id": "a95a1c2e-e950-46fc-af9e-c77cb37dd565",
   "metadata": {},
   "source": [
    "* **There are no null values in all the 17 columns**"
   ]
  },
  {
   "cell_type": "markdown",
   "id": "d14af77d-9bcd-43e7-9a77-3b39bc1d8e89",
   "metadata": {},
   "source": [
    "**Understanding Variables**"
   ]
  },
  {
   "cell_type": "code",
   "execution_count": 846,
   "id": "3747c8e9-0c5a-4916-af1b-7da33fdef3c2",
   "metadata": {},
   "outputs": [
    {
     "data": {
      "text/plain": [
       "Index(['show_id', 'type', 'title', 'director', 'cast', 'country', 'date_added',\n",
       "       'release_year', 'rating', 'duration', 'listed_in', 'description',\n",
       "       'year_Added', 'month', 'description_len', 'title_word', 'decade'],\n",
       "      dtype='object')"
      ]
     },
     "execution_count": 846,
     "metadata": {},
     "output_type": "execute_result"
    }
   ],
   "source": [
    "df.columns # to print all the column names"
   ]
  },
  {
   "cell_type": "code",
   "execution_count": 848,
   "id": "9208b3f3-5567-4936-a369-7ada8eb326f5",
   "metadata": {},
   "outputs": [
    {
     "data": {
      "text/plain": [
       "['show_id',\n",
       " 'type',\n",
       " 'title',\n",
       " 'director',\n",
       " 'cast',\n",
       " 'country',\n",
       " 'date_added',\n",
       " 'release_year',\n",
       " 'rating',\n",
       " 'duration',\n",
       " 'listed_in',\n",
       " 'description',\n",
       " 'year_Added',\n",
       " 'month',\n",
       " 'description_len',\n",
       " 'title_word',\n",
       " 'decade']"
      ]
     },
     "execution_count": 848,
     "metadata": {},
     "output_type": "execute_result"
    }
   ],
   "source": [
    "df.columns.to_list() # to convert the column names into list"
   ]
  },
  {
   "cell_type": "markdown",
   "id": "1971599c-8621-4b6d-885e-3703d1a349b7",
   "metadata": {},
   "source": [
    "**Dataset Statstical Analysis**"
   ]
  },
  {
   "cell_type": "code",
   "execution_count": 851,
   "id": "bbc7009a-c93f-4329-81d1-952e8de65084",
   "metadata": {},
   "outputs": [
    {
     "data": {
      "text/html": [
       "<div>\n",
       "<style scoped>\n",
       "    .dataframe tbody tr th:only-of-type {\n",
       "        vertical-align: middle;\n",
       "    }\n",
       "\n",
       "    .dataframe tbody tr th {\n",
       "        vertical-align: top;\n",
       "    }\n",
       "\n",
       "    .dataframe thead th {\n",
       "        text-align: right;\n",
       "    }\n",
       "</style>\n",
       "<table border=\"1\" class=\"dataframe\">\n",
       "  <thead>\n",
       "    <tr style=\"text-align: right;\">\n",
       "      <th></th>\n",
       "      <th>show_id</th>\n",
       "      <th>date_added</th>\n",
       "      <th>release_year</th>\n",
       "      <th>year_Added</th>\n",
       "      <th>month</th>\n",
       "      <th>description_len</th>\n",
       "      <th>title_word</th>\n",
       "      <th>decade</th>\n",
       "    </tr>\n",
       "  </thead>\n",
       "  <tbody>\n",
       "    <tr>\n",
       "      <th>count</th>\n",
       "      <td>3.774000e+03</td>\n",
       "      <td>3774</td>\n",
       "      <td>3774.000000</td>\n",
       "      <td>3774.000000</td>\n",
       "      <td>3774.000000</td>\n",
       "      <td>3774.000000</td>\n",
       "      <td>3774.000000</td>\n",
       "      <td>3774.000000</td>\n",
       "    </tr>\n",
       "    <tr>\n",
       "      <th>mean</th>\n",
       "      <td>7.510908e+07</td>\n",
       "      <td>2018-07-08 09:09:03.720190720</td>\n",
       "      <td>2012.087440</td>\n",
       "      <td>2018.012454</td>\n",
       "      <td>6.726815</td>\n",
       "      <td>143.227875</td>\n",
       "      <td>3.012189</td>\n",
       "      <td>2006.255962</td>\n",
       "    </tr>\n",
       "    <tr>\n",
       "      <th>min</th>\n",
       "      <td>2.477470e+05</td>\n",
       "      <td>2008-01-01 00:00:00</td>\n",
       "      <td>1942.000000</td>\n",
       "      <td>2008.000000</td>\n",
       "      <td>1.000000</td>\n",
       "      <td>90.000000</td>\n",
       "      <td>1.000000</td>\n",
       "      <td>1940.000000</td>\n",
       "    </tr>\n",
       "    <tr>\n",
       "      <th>25%</th>\n",
       "      <td>7.027581e+07</td>\n",
       "      <td>2017-10-15 00:00:00</td>\n",
       "      <td>2011.000000</td>\n",
       "      <td>2017.000000</td>\n",
       "      <td>3.000000</td>\n",
       "      <td>139.000000</td>\n",
       "      <td>2.000000</td>\n",
       "      <td>2010.000000</td>\n",
       "    </tr>\n",
       "    <tr>\n",
       "      <th>50%</th>\n",
       "      <td>8.014732e+07</td>\n",
       "      <td>2018-09-17 12:00:00</td>\n",
       "      <td>2016.000000</td>\n",
       "      <td>2018.000000</td>\n",
       "      <td>7.000000</td>\n",
       "      <td>145.000000</td>\n",
       "      <td>3.000000</td>\n",
       "      <td>2010.000000</td>\n",
       "    </tr>\n",
       "    <tr>\n",
       "      <th>75%</th>\n",
       "      <td>8.024067e+07</td>\n",
       "      <td>2019-06-06 00:00:00</td>\n",
       "      <td>2017.000000</td>\n",
       "      <td>2019.000000</td>\n",
       "      <td>10.000000</td>\n",
       "      <td>149.000000</td>\n",
       "      <td>4.000000</td>\n",
       "      <td>2010.000000</td>\n",
       "    </tr>\n",
       "    <tr>\n",
       "      <th>max</th>\n",
       "      <td>8.123573e+07</td>\n",
       "      <td>2020-01-18 00:00:00</td>\n",
       "      <td>2020.000000</td>\n",
       "      <td>2020.000000</td>\n",
       "      <td>12.000000</td>\n",
       "      <td>248.000000</td>\n",
       "      <td>17.000000</td>\n",
       "      <td>2020.000000</td>\n",
       "    </tr>\n",
       "    <tr>\n",
       "      <th>std</th>\n",
       "      <td>1.341114e+07</td>\n",
       "      <td>NaN</td>\n",
       "      <td>9.566944</td>\n",
       "      <td>1.212884</td>\n",
       "      <td>3.667008</td>\n",
       "      <td>11.698823</td>\n",
       "      <td>1.862020</td>\n",
       "      <td>9.011533</td>\n",
       "    </tr>\n",
       "  </tbody>\n",
       "</table>\n",
       "</div>"
      ],
      "text/plain": [
       "            show_id                     date_added  release_year   year_Added  \\\n",
       "count  3.774000e+03                           3774   3774.000000  3774.000000   \n",
       "mean   7.510908e+07  2018-07-08 09:09:03.720190720   2012.087440  2018.012454   \n",
       "min    2.477470e+05            2008-01-01 00:00:00   1942.000000  2008.000000   \n",
       "25%    7.027581e+07            2017-10-15 00:00:00   2011.000000  2017.000000   \n",
       "50%    8.014732e+07            2018-09-17 12:00:00   2016.000000  2018.000000   \n",
       "75%    8.024067e+07            2019-06-06 00:00:00   2017.000000  2019.000000   \n",
       "max    8.123573e+07            2020-01-18 00:00:00   2020.000000  2020.000000   \n",
       "std    1.341114e+07                            NaN      9.566944     1.212884   \n",
       "\n",
       "             month  description_len   title_word       decade  \n",
       "count  3774.000000      3774.000000  3774.000000  3774.000000  \n",
       "mean      6.726815       143.227875     3.012189  2006.255962  \n",
       "min       1.000000        90.000000     1.000000  1940.000000  \n",
       "25%       3.000000       139.000000     2.000000  2010.000000  \n",
       "50%       7.000000       145.000000     3.000000  2010.000000  \n",
       "75%      10.000000       149.000000     4.000000  2010.000000  \n",
       "max      12.000000       248.000000    17.000000  2020.000000  \n",
       "std       3.667008        11.698823     1.862020     9.011533  "
      ]
     },
     "execution_count": 851,
     "metadata": {},
     "output_type": "execute_result"
    }
   ],
   "source": [
    "df.describe() # to mention all the statstical analysis"
   ]
  },
  {
   "cell_type": "markdown",
   "id": "78d2d711-4803-444f-8d73-dbf35f65eef8",
   "metadata": {},
   "source": [
    "**Finding Unique Values**"
   ]
  },
  {
   "cell_type": "code",
   "execution_count": 854,
   "id": "df1ec04e-658c-4a5f-901a-45cd4bf943c1",
   "metadata": {},
   "outputs": [
    {
     "data": {
      "text/plain": [
       "show_id            3774\n",
       "type                  2\n",
       "title              3752\n",
       "director           2920\n",
       "cast               3667\n",
       "country             433\n",
       "date_added          989\n",
       "release_year         69\n",
       "rating               14\n",
       "duration            184\n",
       "listed_in           296\n",
       "description        3766\n",
       "year_Added           13\n",
       "month                12\n",
       "description_len      96\n",
       "title_word           15\n",
       "decade                9\n",
       "dtype: int64"
      ]
     },
     "execution_count": 854,
     "metadata": {},
     "output_type": "execute_result"
    }
   ],
   "source": [
    "df.nunique() # to know about all the unique values in the data"
   ]
  },
  {
   "cell_type": "code",
   "execution_count": 859,
   "id": "719a5719-df7a-4d7a-a72b-4a50f808dc0a",
   "metadata": {},
   "outputs": [
    {
     "name": "stdout",
     "output_type": "stream",
     "text": [
      "Empty DataFrame\n",
      "Columns: [Missing_data_count, Missing Data Percentage]\n",
      "Index: []\n"
     ]
    }
   ],
   "source": [
    "def showmissing():\n",
    "    missing=df.columns[df.isnull().any()].tolist()\n",
    "    return missing\n",
    "missing_val=pd.DataFrame()\n",
    "missing_val['Missing_data_count']=df[showmissing()].isnull().sum().sort_values(ascending=False)\n",
    "missing_val[\"Missing Data Percentage\"]=df[showmissing()].isnull().sum().sort_values(ascending=False)/len(df)*100\n",
    "print(missing_val)"
   ]
  },
  {
   "cell_type": "markdown",
   "id": "b72f21b0-a25c-42cb-8b6b-24cdda836e33",
   "metadata": {},
   "source": [
    "## What did you know about Dataset?\n",
    "**These observation can be concluded from the above analysis:**\n",
    "* **There are 6234 observation and 12 features with a mixture of integer,float and object data type.**\n",
    "* **date_added feature is a date but has object data type,need to change it to correct data type.**\n",
    "* **Dataset contains all unique values.**\n",
    "* **Some of the features like director,cast,country and date_added,rating has null values.**"
   ]
  },
  {
   "cell_type": "markdown",
   "id": "f9bfe01b-c3a4-4601-97d8-8c31a206ead6",
   "metadata": {},
   "source": [
    "# Data cleaning"
   ]
  },
  {
   "cell_type": "code",
   "execution_count": 599,
   "id": "4784baff-a948-45db-81b9-665d744b8fe0",
   "metadata": {},
   "outputs": [],
   "source": [
    "df['date_added'] = pd.to_datetime(df['date_added'],format='mixed') "
   ]
  },
  {
   "cell_type": "code",
   "execution_count": 600,
   "id": "d0fa14ee-4d6c-4602-84a9-c1b441d83006",
   "metadata": {},
   "outputs": [
    {
     "data": {
      "text/plain": [
       "show_id                  int64\n",
       "type                    object\n",
       "title                   object\n",
       "director                object\n",
       "cast                    object\n",
       "country                 object\n",
       "date_added      datetime64[ns]\n",
       "release_year             int64\n",
       "rating                  object\n",
       "duration                object\n",
       "listed_in               object\n",
       "description             object\n",
       "dtype: object"
      ]
     },
     "execution_count": 600,
     "metadata": {},
     "output_type": "execute_result"
    }
   ],
   "source": [
    "df.dtypes"
   ]
  },
  {
   "cell_type": "code",
   "execution_count": 866,
   "id": "b238510b-fcbd-414f-baa6-8481f0dcb282",
   "metadata": {},
   "outputs": [],
   "source": [
    "df=df.dropna() # to drop all the null values"
   ]
  },
  {
   "cell_type": "code",
   "execution_count": 602,
   "id": "c52eedda-c83f-4d90-81ff-54330d313642",
   "metadata": {},
   "outputs": [
    {
     "data": {
      "text/plain": [
       "show_id         0\n",
       "type            0\n",
       "title           0\n",
       "director        0\n",
       "cast            0\n",
       "country         0\n",
       "date_added      0\n",
       "release_year    0\n",
       "rating          0\n",
       "duration        0\n",
       "listed_in       0\n",
       "description     0\n",
       "dtype: int64"
      ]
     },
     "execution_count": 602,
     "metadata": {},
     "output_type": "execute_result"
    }
   ],
   "source": [
    "df.isnull().sum()"
   ]
  },
  {
   "cell_type": "markdown",
   "id": "3c9e24f5-3f72-4e05-80b8-5dac5e0eaa28",
   "metadata": {},
   "source": [
    "**OBSERVATION**"
   ]
  },
  {
   "cell_type": "markdown",
   "id": "acb10679-ffa6-414f-be15-88681f224996",
   "metadata": {},
   "source": [
    "* **We can see that there are 0 null values**\n",
    "* **So 0 values are dropped as dropna works to drop the null values** "
   ]
  },
  {
   "cell_type": "markdown",
   "id": "fac225cd-2765-40fc-b3e8-d0350a156f9b",
   "metadata": {},
   "source": [
    "## What is the ditribution of movies vs TV shows?"
   ]
  },
  {
   "cell_type": "code",
   "execution_count": 604,
   "id": "fe3d0a91-ecca-4b98-a9d1-a821b5abc100",
   "metadata": {},
   "outputs": [
    {
     "name": "stdout",
     "output_type": "stream",
     "text": [
      "type\n",
      "Movie      3678\n",
      "TV Show      96\n",
      "Name: count, dtype: int64\n"
     ]
    }
   ],
   "source": [
    "a=df['type'].value_counts()\n",
    "print(a)"
   ]
  },
  {
   "cell_type": "code",
   "execution_count": 605,
   "id": "ac358de5-9602-4e6d-b39a-005511d6229a",
   "metadata": {},
   "outputs": [
    {
     "data": {
      "image/png": "[encoded data removed]",
      "text/plain": [
       "<Figure size 800x600 with 1 Axes>"
      ]
     },
     "metadata": {},
     "output_type": "display_data"
    }
   ],
   "source": [
    "plt.figure(figsize=(8,6))\n",
    "plt.bar(a.index,a.values,color=['r','y'],linewidth=3,edgecolor='black')\n",
    "plt.title(\"Types of Shows\")\n",
    "plt.xlabel(\"Type\")\n",
    "plt.ylabel(\"Count\")\n",
    "plt.xticks(rotation=45,ha=\"right\")\n",
    "plt.show()"
   ]
  },
  {
   "cell_type": "markdown",
   "id": "b53caa07-7e71-471c-9e07-bd0d9b4a11a7",
   "metadata": {},
   "source": [
    "**OBSERVATION**"
   ]
  },
  {
   "cell_type": "markdown",
   "id": "9d682448-215c-4a76-8cb8-151219339675",
   "metadata": {},
   "source": [
    "* **Total number of movies are 3678**\n",
    "* **Total number of tv shows are 96**\n",
    "* **from the graph we can conclude that movies are more posted on netflix than tv shows**"
   ]
  },
  {
   "cell_type": "markdown",
   "id": "152c2b9d-6253-4068-bfab-5c599b228bb7",
   "metadata": {},
   "source": [
    "## What are the top 10 countries with most content on the netflix?"
   ]
  },
  {
   "cell_type": "code",
   "execution_count": 607,
   "id": "aa17ab7e-37b5-497f-9bca-80b404477d4e",
   "metadata": {},
   "outputs": [
    {
     "name": "stdout",
     "output_type": "stream",
     "text": [
      "country\n",
      "United States     1323\n",
      "India              707\n",
      "United Kingdom     152\n",
      "Canada              78\n",
      "Spain               72\n",
      "Turkey              60\n",
      "Japan               54\n",
      "Mexico              51\n",
      "Hong Kong           48\n",
      "France              46\n",
      "Name: count, dtype: int64\n"
     ]
    }
   ],
   "source": [
    "most_content=df['country'].value_counts().head(10)\n",
    "print(most_content)"
   ]
  },
  {
   "cell_type": "markdown",
   "id": "17ef0861-5ba9-4303-aee7-7d5b59e7687e",
   "metadata": {},
   "source": [
    "**OBSERVATION**"
   ]
  },
  {
   "cell_type": "markdown",
   "id": "b1e67973-fa76-4fa0-a205-6f30b80255ff",
   "metadata": {},
   "source": [
    "* **The most content created on netflix is by United States**\n",
    "* **The least content is created by France**\n",
    "* **India is on second number**"
   ]
  },
  {
   "cell_type": "markdown",
   "id": "d13c662c-dcc0-432e-b452-edc4c9ad855d",
   "metadata": {},
   "source": [
    "## How has the number of title added to the netflix varried over the years?"
   ]
  },
  {
   "cell_type": "code",
   "execution_count": 874,
   "id": "f81c52f6-a96a-47ed-b128-6a76807d5945",
   "metadata": {},
   "outputs": [
    {
     "name": "stdout",
     "output_type": "stream",
     "text": [
      "release_year\n",
      "1942      1\n",
      "1944      1\n",
      "1945      1\n",
      "1946      2\n",
      "1947      1\n",
      "       ... \n",
      "2016    514\n",
      "2017    585\n",
      "2018    537\n",
      "2019    326\n",
      "2020      6\n",
      "Name: count, Length: 69, dtype: int64\n"
     ]
    }
   ],
   "source": [
    "a=df['release_year'].value_counts().sort_index() \n",
    "print(a)"
   ]
  },
  {
   "cell_type": "markdown",
   "id": "c3424598-1f02-4989-8da5-a54bdb533e65",
   "metadata": {},
   "source": [
    "**OBSERVATION**"
   ]
  },
  {
   "cell_type": "markdown",
   "id": "6e0083ed-b716-43a8-8a68-c7a9bf360fca",
   "metadata": {},
   "source": [
    "* **According to the above data analysis, we get to know about the number of titles released over the years**\n",
    "* **In 1942 only 1 title was released whereas in 2016,514 titles were released**"
   ]
  },
  {
   "cell_type": "code",
   "execution_count": 1032,
   "id": "d2a1a0a5-bac5-4726-a7d9-99bd3b51c074",
   "metadata": {},
   "outputs": [
    {
     "data": {
      "image/png": "[encoded data removed]",
      "text/plain": [
       "<Figure size 800x600 with 1 Axes>"
      ]
     },
     "metadata": {},
     "output_type": "display_data"
    }
   ],
   "source": [
    "a=df['type'].value_counts()\n",
    "plt.figure(figsize=(8,6))\n",
    "a.plot(kind='line',marker='*',color='black')\n",
    "plt.grid(True)\n",
    "plt.title(\"Variation of Shows over years\")\n",
    "plt.xlabel(\"Type\")\n",
    "plt.ylabel(\"Count\")\n",
    "plt.show()"
   ]
  },
  {
   "cell_type": "markdown",
   "id": "81520224-4cc0-4306-98fe-c5170d43e1c6",
   "metadata": {},
   "source": [
    "**OBSERAVTION**"
   ]
  },
  {
   "cell_type": "markdown",
   "id": "0600f0aa-0c85-441b-b0d9-84ca71a1e4f5",
   "metadata": {},
   "source": [
    "* **The above graph shows the variation of shows over year**\n",
    "* **The maximum no. of shows were released between 2010 to 2020**"
   ]
  },
  {
   "cell_type": "markdown",
   "id": "9b465736-8531-4825-b471-4f232d3725c2",
   "metadata": {},
   "source": [
    "## Which director has directed the most titles on netflix?"
   ]
  },
  {
   "cell_type": "code",
   "execution_count": 1037,
   "id": "d8f48d88-65ca-43b2-bf19-8345075835ff",
   "metadata": {},
   "outputs": [
    {
     "name": "stdout",
     "output_type": "stream",
     "text": [
      "director\n",
      "Raúl Campos, Jan Suter    18\n",
      "Name: count, dtype: int64\n"
     ]
    }
   ],
   "source": [
    "a=df['director'].value_counts().head(1)\n",
    "print(a)"
   ]
  },
  {
   "cell_type": "markdown",
   "id": "e937d520-267e-4344-9c78-956d529fa41b",
   "metadata": {},
   "source": [
    "**OBSERVATION**"
   ]
  },
  {
   "cell_type": "markdown",
   "id": "2945a281-e88c-417c-b1f5-6f6a1bf14b2e",
   "metadata": {},
   "source": [
    "* **The most directed titles on nelifx is by Raul Campos, Jan Suter**\n",
    "* **They directed total of 18 titles**"
   ]
  },
  {
   "cell_type": "markdown",
   "id": "90c553d6-7f47-4302-9f4a-d3ce76c62a69",
   "metadata": {},
   "source": [
    "## What are the most common ratings for netflix Titles?"
   ]
  },
  {
   "cell_type": "code",
   "execution_count": 1042,
   "id": "d7555ae6-dd65-4964-b889-3c94285f7455",
   "metadata": {},
   "outputs": [
    {
     "name": "stdout",
     "output_type": "stream",
     "text": [
      "rating\n",
      "TV-MA    1189\n",
      "Name: count, dtype: int64\n"
     ]
    }
   ],
   "source": [
    "b=df['rating'].value_counts().head(1)\n",
    "print(b)"
   ]
  },
  {
   "cell_type": "markdown",
   "id": "fcab6d9c-a3a8-4ca8-8042-c399a54a5b3b",
   "metadata": {},
   "source": [
    "**OBSERVATION**"
   ]
  },
  {
   "cell_type": "markdown",
   "id": "802d20be-e723-4e03-a204-d2068aec0477",
   "metadata": {},
   "source": [
    "* **The most common ratings according to the given data is TV-MA**\n",
    "* **These ratings are in total 1189**"
   ]
  },
  {
   "cell_type": "markdown",
   "id": "88cb60a0-0c89-47df-96dc-dd6f8f5733fd",
   "metadata": {},
   "source": [
    "## How many Title are categorised under each genre"
   ]
  },
  {
   "cell_type": "code",
   "execution_count": 1047,
   "id": "243edc0a-fc30-42fe-96fb-95a6f4686ab8",
   "metadata": {},
   "outputs": [
    {
     "data": {
      "text/plain": [
       " International Movies    1647\n",
       "Dramas                   1045\n",
       "Comedies                  767\n",
       "Action & Adventure        583\n",
       " Independent Movies       527\n",
       "                         ... \n",
       " Classic & Cult TV          1\n",
       "TV Horror                   1\n",
       " Science & Nature TV        1\n",
       "Classic & Cult TV           1\n",
       " Reality TV                 1\n",
       "Name: count, Length: 67, dtype: int64"
      ]
     },
     "execution_count": 1047,
     "metadata": {},
     "output_type": "execute_result"
    }
   ],
   "source": [
    "a=df['listed_in'].str.split(',',expand=True)\n",
    "b=a.stack()\n",
    "b.value_counts()"
   ]
  },
  {
   "cell_type": "markdown",
   "id": "2c3896d9-5fb2-49ac-9698-beaf19e9d5d8",
   "metadata": {},
   "source": [
    "**OBSERVATION**"
   ]
  },
  {
   "cell_type": "markdown",
   "id": "d16259ad-18dc-4dd3-bd2d-9b2afa76da5a",
   "metadata": {},
   "source": [
    "* **The maximum no. of title is under International Movies Genre**\n",
    "* **And the minimun is 1 occuring in of a Genres**"
   ]
  },
  {
   "cell_type": "markdown",
   "id": "3a40f3b0-7b1f-4de8-9923-5dfeb878294a",
   "metadata": {},
   "source": [
    "## What is the average duration of movies on netflix?"
   ]
  },
  {
   "cell_type": "code",
   "execution_count": 1052,
   "id": "cdf4dd60-ee3d-4d8d-9fc1-ccb76c50a82d",
   "metadata": {},
   "outputs": [
    {
     "name": "stdout",
     "output_type": "stream",
     "text": [
      "average duration of movie = 102.44861337683524\n"
     ]
    }
   ],
   "source": [
    "movie=df[df['type']=='Movie']\n",
    "movie.loc[:,'duration']=movie['duration'].str.replace(' min','').astype(float)\n",
    "avg_duration=movie['duration'].mean()\n",
    "print(\"average duration of movie =\",avg_duration)"
   ]
  },
  {
   "cell_type": "markdown",
   "id": "33203777-5ab9-4437-bf7e-b0ea10711953",
   "metadata": {},
   "source": [
    "**OBSERVATION**"
   ]
  },
  {
   "cell_type": "markdown",
   "id": "0c8ed490-f624-4dfa-ae2a-f7c8bc291c49",
   "metadata": {},
   "source": [
    "* **The average duration of movies is 102.44**\n",
    "* **We found the average duration by the use of mean**"
   ]
  },
  {
   "cell_type": "markdown",
   "id": "c974eff5-1c3f-4eab-b38b-c70631b4dcfa",
   "metadata": {},
   "source": [
    "## What are the longest and shortest movies on Netflix?"
   ]
  },
  {
   "cell_type": "code",
   "execution_count": 1057,
   "id": "4f6cf556-d46c-4c89-9d21-4073327ab424",
   "metadata": {},
   "outputs": [
    {
     "name": "stdout",
     "output_type": "stream",
     "text": [
      "longest movie        title duration\n",
      "4227  Sangam    228.0\n",
      "shortest movie Empty DataFrame\n",
      "Columns: [title, duration]\n",
      "Index: []\n"
     ]
    }
   ],
   "source": [
    "movie=df[df['type']=='Movie']\n",
    "movie.loc[:,'duration']=movie['duration'].str.replace(' min','').astype(float)\n",
    "longest=movie[movie['duration']==movie['duration'].max()]\n",
    "shortest=movie[movie['duration']==movie['duration'].min]\n",
    "print(\"longest movie\",longest[['title','duration']])\n",
    "print(\"shortest movie\",shortest[['title','duration']])"
   ]
  },
  {
   "cell_type": "markdown",
   "id": "63d0ab5f-4812-4104-b6e8-9ba87e00b050",
   "metadata": {},
   "source": [
    "**OBSERVATION**"
   ]
  },
  {
   "cell_type": "markdown",
   "id": "4c83a593-6184-4206-9f23-c08fd74127a9",
   "metadata": {},
   "source": [
    "* **The longest movie is Sangam with title duration of 228**\n",
    "* **And for the shortest it is ana empty DataFrame**"
   ]
  },
  {
   "cell_type": "markdown",
   "id": "29739234-bc0a-4080-b5e0-a1486e227ff7",
   "metadata": {},
   "source": [
    "## Which genres are most popular for \"Movies\" and \"TV Shows\"?"
   ]
  },
  {
   "cell_type": "code",
   "execution_count": 1062,
   "id": "cdeea9b6-33a8-4004-bc35-a37a41f226ac",
   "metadata": {},
   "outputs": [
    {
     "name": "stdout",
     "output_type": "stream",
     "text": [
      "popular genre for movie\n",
      " International Movies    1647\n",
      "Dramas                   1045\n",
      "Comedies                  767\n",
      "Action & Adventure        583\n",
      " Dramas                   527\n",
      "Name: count, dtype: int64\n",
      "popular genre for tv shows\n",
      " TV Dramas                 31\n",
      " International TV Shows    26\n",
      "International TV Shows     24\n",
      "Crime TV Shows             19\n",
      "British TV Shows           17\n",
      "Name: count, dtype: int64\n"
     ]
    }
   ],
   "source": [
    "movie=df[df['type']=='Movie']\n",
    "tv_shows=df[df['type']=='TV Show']\n",
    "movie_genre=movie['listed_in'].str.split(',',expand=True).stack()\n",
    "tv_genre=tv_shows['listed_in'].str.split(',',expand=True).stack()\n",
    "movie_counts=movie_genre.value_counts().head()\n",
    "tvshows_counts=tv_genre.value_counts().head()\n",
    "print(\"popular genre for movie\")\n",
    "print(movie_counts)\n",
    "print(\"popular genre for tv shows\")\n",
    "print(tvshows_counts)"
   ]
  },
  {
   "cell_type": "markdown",
   "id": "8cead7cd-a263-42a4-9e2c-53a884ccd0dd",
   "metadata": {},
   "source": [
    "**OBSERVATION**"
   ]
  },
  {
   "cell_type": "markdown",
   "id": "5fe33c7b-8b69-4fad-959b-0a0e9808cd3f",
   "metadata": {},
   "source": [
    "* **The most popular genre for Movies is International Movies with a count of 1647**\n",
    "* **The most popular genre for TV show is TV Drama with a count of 31**"
   ]
  },
  {
   "cell_type": "markdown",
   "id": "407fa37c-0019-4cd5-80ec-3276b8b5a6ec",
   "metadata": {},
   "source": [
    "## How many titles were added in the year 2020?"
   ]
  },
  {
   "cell_type": "code",
   "execution_count": 1067,
   "id": "4564d3bd-f829-4a0f-9df8-8fb85f4c6d41",
   "metadata": {},
   "outputs": [
    {
     "data": {
      "text/plain": [
       "140"
      ]
     },
     "execution_count": 1067,
     "metadata": {},
     "output_type": "execute_result"
    }
   ],
   "source": [
    "df['year_Added']=df['date_added'].dt.year\n",
    "a=df[df['year_Added']==2020]\n",
    "a.shape[0]"
   ]
  },
  {
   "cell_type": "markdown",
   "id": "e2f9a986-8206-4e97-ad92-a9f48bf806b7",
   "metadata": {},
   "source": [
    "**OBSERVATION**"
   ]
  },
  {
   "cell_type": "markdown",
   "id": "38c5cd64-d32d-4153-b505-f92e498d0ce6",
   "metadata": {},
   "source": [
    "* **A total of 140 titles were added in the year 2020**"
   ]
  },
  {
   "cell_type": "markdown",
   "id": "8a24f22e-0b0c-4658-825a-b49b0e30061f",
   "metadata": {},
   "source": [
    "## Which actors appear most frequently in Netflix titles?"
   ]
  },
  {
   "cell_type": "code",
   "execution_count": 1072,
   "id": "f4008f33-e8da-4dba-8622-f88d50e41c8d",
   "metadata": {},
   "outputs": [
    {
     "name": "stdout",
     "output_type": "stream",
     "text": [
      "top 5 actors who appeared most frequently cast\n",
      "Anupam Kher         32\n",
      "Shah Rukh Khan      29\n",
      "Om Puri             27\n",
      "Naseeruddin Shah    26\n",
      "Akshay Kumar        26\n",
      "Name: count, dtype: int64\n"
     ]
    }
   ],
   "source": [
    "Actors=df['cast'].str.split(',').explode().str.strip()\n",
    "print(\"top 5 actors who appeared most frequently\",Actors.value_counts().head())"
   ]
  },
  {
   "cell_type": "markdown",
   "id": "b5ec02ef-5a77-463f-98a9-7cda66387f9d",
   "metadata": {},
   "source": [
    "**OBSERVATION**"
   ]
  },
  {
   "cell_type": "markdown",
   "id": "7d4eed40-0f7c-4e4e-bd40-9f180e87f98a",
   "metadata": {},
   "source": [
    "* **The most appearing actrs in Netflix title is Anupam Kher with frequency of 32**\n",
    "* **Others are Shah Rukh Khan,Om Puri etc**"
   ]
  },
  {
   "cell_type": "markdown",
   "id": "597b1ed5-b3f8-4c81-9c1e-11ea36ec2728",
   "metadata": {},
   "source": [
    "## What percentage of content is produced in the United States?"
   ]
  },
  {
   "cell_type": "code",
   "execution_count": 1077,
   "id": "535a1bf1-5469-4355-a934-fac9afcc03df",
   "metadata": {},
   "outputs": [
    {
     "name": "stdout",
     "output_type": "stream",
     "text": [
      "Percentage of content produced in US =  35.055643879173296\n"
     ]
    }
   ],
   "source": [
    "us=df[df['country']=='United States']\n",
    "total_titles=df.shape[0]\n",
    "per=us.shape[0]/total_titles*100\n",
    "print(\"Percentage of content produced in US = \",per)"
   ]
  },
  {
   "cell_type": "markdown",
   "id": "cd9fa430-59ac-4b98-b47a-9633df44e8bf",
   "metadata": {},
   "source": [
    "**OBSERVATION**"
   ]
  },
  {
   "cell_type": "markdown",
   "id": "97896a57-257e-4acd-bee9-3c96db9653fc",
   "metadata": {},
   "source": [
    "* **The total percentage of content produced in US is 35.05%**"
   ]
  },
  {
   "cell_type": "markdown",
   "id": "c4ae3a60-24ac-4c25-804a-173027498fd2",
   "metadata": {},
   "source": [
    "## How has the number of new TV shows and movies changed over time?"
   ]
  },
  {
   "cell_type": "code",
   "execution_count": 1082,
   "id": "0c4af790-3422-44b2-9805-8bf95a9d6932",
   "metadata": {},
   "outputs": [],
   "source": [
    "movie=df[df['type']=='Movie']\n",
    "tv_shows=df[df['type']=='TV Show']\n",
    "movie_year=movie.groupby('release_year').size()\n",
    "tvshows_year=tv_shows.groupby('release_year').size()"
   ]
  },
  {
   "cell_type": "code",
   "execution_count": 1084,
   "id": "7ae79a73-1931-4edd-82ae-c2834ba20d29",
   "metadata": {},
   "outputs": [
    {
     "data": {
      "image/png": "[encoded data removed]",
      "text/plain": [
       "<Figure size 800x600 with 1 Axes>"
      ]
     },
     "metadata": {},
     "output_type": "display_data"
    }
   ],
   "source": [
    "plt.figure(figsize=(8,6))\n",
    "plt.plot(movie_year.index,movie_year.values,label='movies',color='b',marker='o')\n",
    "plt.plot(tvshows_year.index,tvshows_year.values,label='tvshows',color='r',marker='*')\n",
    "plt.xlabel('Year')\n",
    "plt.ylabel('No. of Titles')\n",
    "plt.grid(True)\n",
    "plt.show()"
   ]
  },
  {
   "cell_type": "markdown",
   "id": "23191ce9-c812-41bc-b663-0fef1eba1ee0",
   "metadata": {},
   "source": [
    "**OBSERVATION**"
   ]
  },
  {
   "cell_type": "markdown",
   "id": "39ab285d-72bc-4ca3-bd47-4b3255807df3",
   "metadata": {},
   "source": [
    "* **There has been a great change in number of new movies from year 2010 to 2020**\n",
    "* **There has a been a slight change in number of new TV shows**"
   ]
  },
  {
   "cell_type": "markdown",
   "id": "3db2d33d-048e-463d-860e-c79964ddd44e",
   "metadata": {},
   "source": [
    "## Which country produces the oldest average content by release year?"
   ]
  },
  {
   "cell_type": "code",
   "execution_count": 1089,
   "id": "33ef163a-0c60-4a2c-9bbd-253124818be4",
   "metadata": {},
   "outputs": [
    {
     "name": "stdout",
     "output_type": "stream",
     "text": [
      "Country producing oldest average content is India, Malaysia with avg release year 1960.0\n"
     ]
    }
   ],
   "source": [
    "avg=df.groupby('country')['release_year'].mean()\n",
    "country=avg.idxmin()\n",
    "year=avg.min()\n",
    "print(\"Country producing oldest average content is\",country,\"with avg release year\",year)"
   ]
  },
  {
   "cell_type": "markdown",
   "id": "ef91098b-ca14-4738-bdc2-8f9b1f7dc6ca",
   "metadata": {},
   "source": [
    "**OBSERVATION**"
   ]
  },
  {
   "cell_type": "markdown",
   "id": "e3e67079-83d3-4cbf-a261-19c32f6f5cec",
   "metadata": {},
   "source": [
    "* **The oldest average content is produced in India and Malaysia with average release year 1960**"
   ]
  },
  {
   "cell_type": "markdown",
   "id": "7541688e-f06f-4b06-bb21-4a7372ab8caa",
   "metadata": {},
   "source": [
    "## How many titles are family friendly?"
   ]
  },
  {
   "cell_type": "code",
   "execution_count": 1094,
   "id": "9928daff-3f1c-4a1f-b819-6246a3357546",
   "metadata": {},
   "outputs": [
    {
     "name": "stdout",
     "output_type": "stream",
     "text": [
      "no of family friendlt titles= 72\n"
     ]
    }
   ],
   "source": [
    "rating=['TV-Y', 'TV-Y7']\n",
    "a=df[df['rating'].isin(rating)].shape[0]\n",
    "print(\"no of family friendlt titles=\",a)"
   ]
  },
  {
   "cell_type": "markdown",
   "id": "12c39d54-eb7c-4e14-a17f-a76654cf5ad6",
   "metadata": {},
   "source": [
    "**OBSERVATION**"
   ]
  },
  {
   "cell_type": "markdown",
   "id": "6decc84a-9a66-44d2-9aa4-272d1502321f",
   "metadata": {},
   "source": [
    "* **A total of 72 titles are family friendly**"
   ]
  },
  {
   "cell_type": "markdown",
   "id": "93dd99d5-4f8a-48e4-8226-c56d95b8abbc",
   "metadata": {},
   "source": [
    "## Which month has most content added to the netflix historically?"
   ]
  },
  {
   "cell_type": "code",
   "execution_count": 1099,
   "id": "8637d26c-5e94-4878-9a9a-fc1c7c197b86",
   "metadata": {},
   "outputs": [
    {
     "name": "stdout",
     "output_type": "stream",
     "text": [
      "the month that has most content added is =\n",
      " month\n",
      "1    406\n",
      "Name: count, dtype: int64\n"
     ]
    }
   ],
   "source": [
    "df['month']=df['date_added'].dt.month\n",
    "b=df['month'].value_counts().head(1)\n",
    "print(\"the month that has most content added is =\\n\",b)"
   ]
  },
  {
   "cell_type": "markdown",
   "id": "0d265765-d2d5-44c0-9982-1afedfe8b7c3",
   "metadata": {},
   "source": [
    "**OBSERVATION**"
   ]
  },
  {
   "cell_type": "markdown",
   "id": "14d39f39-3f17-43d5-b2e4-58da9d50d270",
   "metadata": {},
   "source": [
    "* **Month 1 that is January has the most added content on netflix**"
   ]
  },
  {
   "cell_type": "markdown",
   "id": "dc83aba8-ac7e-49c5-b484-a6db18c30ac0",
   "metadata": {},
   "source": [
    "## What are top 5 most common directors and their genres?"
   ]
  },
  {
   "cell_type": "code",
   "execution_count": 1104,
   "id": "db0f1e07-e846-4edb-bb40-42512d604188",
   "metadata": {},
   "outputs": [
    {
     "data": {
      "text/plain": [
       "director\n",
       "Raúl Campos, Jan Suter    18\n",
       "Jay Karas                 13\n",
       "Marcus Raboy              12\n",
       "Jay Chapman               12\n",
       "Martin Scorsese            9\n",
       "Name: count, dtype: int64"
      ]
     },
     "execution_count": 1104,
     "metadata": {},
     "output_type": "execute_result"
    }
   ],
   "source": [
    "a=df['director'].value_counts().head()\n",
    "a"
   ]
  },
  {
   "cell_type": "markdown",
   "id": "00536a8f-99b0-4394-bbed-52cc6561bb61",
   "metadata": {},
   "source": [
    "**OBSERAVTION**"
   ]
  },
  {
   "cell_type": "markdown",
   "id": "d315165e-b4a1-4493-8032-955f387b6dda",
   "metadata": {},
   "source": [
    "* **The top 1 common director are Raul Campos and Jan suter with 18 Genres**"
   ]
  },
  {
   "cell_type": "code",
   "execution_count": 1108,
   "id": "b5fce86a-2300-427f-895c-4aeb090dfbf2",
   "metadata": {},
   "outputs": [
    {
     "data": {
      "text/plain": [
       "listed_in\n",
       "Stand-Up Comedy        55\n",
       "Classic Movies          5\n",
       " Dramas                 5\n",
       "Dramas                  3\n",
       " Independent Movies     2\n",
       "Name: count, dtype: int64"
      ]
     },
     "execution_count": 1108,
     "metadata": {},
     "output_type": "execute_result"
    }
   ],
   "source": [
    "Directors=df[df['director'].isin(a.index)]\n",
    "b=Directors['listed_in'].str.split(',').explode().value_counts().head()\n",
    "b"
   ]
  },
  {
   "cell_type": "markdown",
   "id": "fdd85c1d-01d8-4468-acd8-1bdaa000e275",
   "metadata": {},
   "source": [
    "**OBSERVATION**"
   ]
  },
  {
   "cell_type": "markdown",
   "id": "ea923c31-2737-41f1-8380-df32e14f1b93",
   "metadata": {},
   "source": [
    "* **The most common Genre is Standup Comedy**"
   ]
  },
  {
   "cell_type": "markdown",
   "id": "712a50e3-bf55-430e-b02c-92b77642a8f8",
   "metadata": {},
   "source": [
    "## Which title has the longest description in the dataset?"
   ]
  },
  {
   "cell_type": "code",
   "execution_count": 1113,
   "id": "ea5aed7f-ec86-47e9-b5ee-8b5652dca799",
   "metadata": {},
   "outputs": [
    {
     "name": "stdout",
     "output_type": "stream",
     "text": [
      "Title with longest description=  Namastey London with length 248\n"
     ]
    }
   ],
   "source": [
    "df['description']=df['description'].astype(str)\n",
    "df['description_len']=df['description'].str.len()\n",
    "a=df.loc[df['description_len'].idxmax()]\n",
    "print(\"Title with longest description= \",a['title'],\"with length\",a['description_len'])"
   ]
  },
  {
   "cell_type": "markdown",
   "id": "ca7f444f-f49a-4daa-9ffd-32aa11c3cc63",
   "metadata": {},
   "source": [
    "**OBSERVATION**"
   ]
  },
  {
   "cell_type": "markdown",
   "id": "5bba21f2-0a81-42c1-a336-67eddabaafdf",
   "metadata": {},
   "source": [
    "* **The longest description in the dataset is of Movie Namastey London**\n",
    "* **it a total string length of 248**"
   ]
  },
  {
   "cell_type": "markdown",
   "id": "f2f9ccd7-98cd-48af-bd6a-21e6df1d4ae6",
   "metadata": {},
   "source": [
    "## how many titles have a single word name? "
   ]
  },
  {
   "cell_type": "code",
   "execution_count": 1118,
   "id": "f9e660d9-2db9-4343-bc6f-44bfcb6e738f",
   "metadata": {},
   "outputs": [
    {
     "name": "stdout",
     "output_type": "stream",
     "text": [
      "Title having a single word name = 810\n"
     ]
    }
   ],
   "source": [
    "df['title_word']=df['title'].str.split().str.len()\n",
    "a=df[df['title_word']==1]\n",
    "b=a.shape[0]\n",
    "print(\"Title having a single word name =\",b)"
   ]
  },
  {
   "cell_type": "markdown",
   "id": "59c9ef25-64ba-43bc-902b-759edcfe9582",
   "metadata": {},
   "source": [
    "**OBSERVATION**"
   ]
  },
  {
   "cell_type": "markdown",
   "id": "86a563ae-c65a-4d88-97eb-15acb3f5386d",
   "metadata": {},
   "source": [
    "* **Titles having a single word name are 810**"
   ]
  },
  {
   "cell_type": "markdown",
   "id": "de6461f2-0af9-4d74-bc15-13b5ea6063f6",
   "metadata": {},
   "source": [
    "## How many titles are there from each decade?"
   ]
  },
  {
   "cell_type": "code",
   "execution_count": 1123,
   "id": "4cea8682-7be9-425d-b107-ada38f52c95d",
   "metadata": {},
   "outputs": [
    {
     "data": {
      "text/plain": [
       "decade\n",
       "1940       6\n",
       "1950       6\n",
       "1960      17\n",
       "1970      50\n",
       "1980      81\n",
       "1990     155\n",
       "2000     503\n",
       "2010    2950\n",
       "2020       6\n",
       "Name: count, dtype: int64"
      ]
     },
     "execution_count": 1123,
     "metadata": {},
     "output_type": "execute_result"
    }
   ],
   "source": [
    "df['decade']=(df['release_year']//10)*10\n",
    "df['decade'].value_counts().sort_index()"
   ]
  },
  {
   "cell_type": "markdown",
   "id": "72b06252-ac5f-40cb-b5b6-ec3a8abc1ef9",
   "metadata": {},
   "source": [
    "**OBSERVATION**"
   ]
  },
  {
   "cell_type": "markdown",
   "id": "27b1ff60-db1a-441c-847f-2cc9f56b02c7",
   "metadata": {},
   "source": [
    "* **The maximum number of releases are from year 2010 with 2950 titles**\n",
    "* **The minimum are from 1940,1950 and 2020 with 6 titles each**"
   ]
  },
  {
   "cell_type": "markdown",
   "id": "50558bda-4e60-44a4-9456-c454bf172ed7",
   "metadata": {},
   "source": [
    "## How many titles have same name but different types?"
   ]
  },
  {
   "cell_type": "code",
   "execution_count": 1128,
   "id": "45ee9fe4-1502-47c4-9a63-794b201a40db",
   "metadata": {},
   "outputs": [
    {
     "name": "stdout",
     "output_type": "stream",
     "text": [
      "2\n"
     ]
    }
   ],
   "source": [
    "a=df.groupby(['title','type']).size().reset_index(name='count')\n",
    "b=a.groupby('title').filter(lambda x:len(x['type'].unique())>1)\n",
    "c=b['title'].nunique()\n",
    "print(c)"
   ]
  },
  {
   "cell_type": "code",
   "execution_count": 1129,
   "id": "17e8462d-6f43-4f58-84bd-a2a87724052f",
   "metadata": {},
   "outputs": [
    {
     "data": {
      "text/plain": [
       "2"
      ]
     },
     "execution_count": 1129,
     "metadata": {},
     "output_type": "execute_result"
    }
   ],
   "source": [
    "a=df.groupby(['title','type']).size().reset_index(name='count')\n",
    "b=a.groupby('title').filter(lambda x:len(x['type'].unique())>1)\n",
    "b['title'].nunique()"
   ]
  },
  {
   "cell_type": "markdown",
   "id": "cd8db27b-3c62-4dd1-86cc-ba2793cb57e2",
   "metadata": {},
   "source": [
    "## What is the total runtime of all movies combined on Netflix?"
   ]
  },
  {
   "cell_type": "code",
   "execution_count": 1132,
   "id": "3bb290f3-6134-4e9b-86f7-a0f7c3cd0526",
   "metadata": {},
   "outputs": [
    {
     "data": {
      "text/plain": [
       "376806.0"
      ]
     },
     "execution_count": 1132,
     "metadata": {},
     "output_type": "execute_result"
    }
   ],
   "source": [
    "movies=df[df['type']=='Movie']\n",
    "movies.loc[:,'duration']=movies['duration'].str.replace(r'\\D','',regex=True).astype(float)\n",
    "a=movies['duration'].sum()\n",
    "a"
   ]
  },
  {
   "cell_type": "markdown",
   "id": "4965b1f4-cb26-4487-85f1-b865bffcb3fb",
   "metadata": {},
   "source": [
    "**OBSERVATION**"
   ]
  },
  {
   "cell_type": "markdown",
   "id": "2e1cf1fb-3f0b-42f2-9b4f-50b9bf1a2548",
   "metadata": {},
   "source": [
    "* **Total runtime of all movies combined on netflix is 376806**"
   ]
  },
  {
   "cell_type": "markdown",
   "id": "6c6cb517-4820-41f7-8b4a-4c49556d4c4d",
   "metadata": {},
   "source": [
    "## Which title appears first alphabetically, and which one appears last?"
   ]
  },
  {
   "cell_type": "code",
   "execution_count": 1138,
   "id": "6b9ac277-664a-4aae-824f-d575f8ef4d73",
   "metadata": {},
   "outputs": [
    {
     "name": "stdout",
     "output_type": "stream",
     "text": [
      "first title is #Roxy\n",
      "last title is 반드시 잡는다\n"
     ]
    }
   ],
   "source": [
    "a=df['title'].sort_values()\n",
    "print(\"first title is\",a.iloc[0])\n",
    "print(\"last title is\",a.iloc[-1])"
   ]
  },
  {
   "cell_type": "markdown",
   "id": "fd6da8dc-c1ae-43ec-8780-332111f32c07",
   "metadata": {},
   "source": [
    "**OBSERVATION**"
   ]
  },
  {
   "cell_type": "markdown",
   "id": "f261135a-500d-40da-ab3d-e410b0b7fe42",
   "metadata": {},
   "source": [
    "* **Alphabetically,the first movies that comes up is #Roxy**\n",
    "* **And the last that appears is 반드시 잡는다**"
   ]
  },
  {
   "cell_type": "markdown",
   "id": "13a4de9d-4906-4559-a43f-547107deeeb2",
   "metadata": {},
   "source": [
    "## Directors who made both tv shows and movies"
   ]
  },
  {
   "cell_type": "code",
   "execution_count": 1141,
   "id": "4ebe5aa6-5981-4d36-a27e-cbfd4585db0b",
   "metadata": {},
   "outputs": [
    {
     "data": {
      "text/plain": [
       "0                          Noam Murro\n",
       "1                         Stan Lathan\n",
       "2                   Jay Chandrasekhar\n",
       "3                     Soumendra Padhi\n",
       "4                      Jerry Seinfeld\n",
       "5                            Eli Roth\n",
       "6                       Thomas Astruc\n",
       "7                   Quentin Tarantino\n",
       "8     Kobun Shizuno, Hiroyuki Seshita\n",
       "9                      Tensai Okamura\n",
       "10                       Oliver Stone\n",
       "11                  Tsutomu Mizushima\n",
       "dtype: object"
      ]
     },
     "execution_count": 1141,
     "metadata": {},
     "output_type": "execute_result"
    }
   ],
   "source": [
    "movies=df['director'][df['type']=='Movie']\n",
    "tv=df['director'][df['type']=='TV Show']\n",
    "a=list(set(movies).intersection(set(tv)))\n",
    "a=pd.Series(a)\n",
    "a"
   ]
  },
  {
   "cell_type": "markdown",
   "id": "2cb1bfd4-d25e-4d25-a33b-86ce6fa801cc",
   "metadata": {},
   "source": [
    "**OBSERVATION**"
   ]
  },
  {
   "cell_type": "markdown",
   "id": "08e7fa65-ad7a-4dfb-90e9-24dee8c1a79d",
   "metadata": {},
   "source": [
    "* **There are a total of 12 directors who has directed both movies and TV shows**\n",
    "* **Some of them are Noam Murro,Stan Lathan etc**"
   ]
  },
  {
   "cell_type": "markdown",
   "id": "6afc1c20-83df-4cf9-a9e7-bedb16c06e2c",
   "metadata": {},
   "source": [
    "## Which countries produce the most content on Netflix?"
   ]
  },
  {
   "cell_type": "code",
   "execution_count": 671,
   "id": "960b0fde-ec7c-4a04-b616-8ee0355d0f80",
   "metadata": {},
   "outputs": [
    {
     "data": {
      "image/png": "[encoded data removed]",
      "text/plain": [
       "<Figure size 640x480 with 1 Axes>"
      ]
     },
     "metadata": {},
     "output_type": "display_data"
    }
   ],
   "source": [
    "a=df['country'].value_counts().head(10)\n",
    "plt.bar(x=a.index,height=a.values,color='pink')\n",
    "plt.xticks(rotation=45,ha='right',color='black')\n",
    "plt.xlabel('countries')\n",
    "plt.ylabel('content')\n",
    "plt.show()"
   ]
  },
  {
   "cell_type": "markdown",
   "id": "ee6146d1-7746-432e-9246-2c650f5082bc",
   "metadata": {},
   "source": [
    "**OBSERVATION**"
   ]
  },
  {
   "cell_type": "markdown",
   "id": "5e9973b5-9e01-4e44-9f90-63887fe086be",
   "metadata": {},
   "source": [
    "* **United States has the most content on netflix**\n",
    "* **Followed by US,India is on second number for producing the content**"
   ]
  },
  {
   "cell_type": "markdown",
   "id": "72825cb1-559f-473c-a757-547707cd5eee",
   "metadata": {},
   "source": [
    "## Visualize the Proportion of TV Shows vs Movies"
   ]
  },
  {
   "cell_type": "code",
   "execution_count": 1027,
   "id": "07163211-d5b4-4436-8771-43645706508b",
   "metadata": {},
   "outputs": [
    {
     "data": {
      "image/png": "[encoded data removed]",
      "text/plain": [
       "<Figure size 640x480 with 1 Axes>"
      ]
     },
     "metadata": {},
     "output_type": "display_data"
    }
   ],
   "source": [
    "a=df['type'].value_counts()\n",
    "a.plot(kind='pie',autopct='%1.1f%%',colors=['#ff9999','#66b3ff'])\n",
    "plt.ylabel('')\n",
    "plt.show()"
   ]
  },
  {
   "cell_type": "markdown",
   "id": "fff960be-0b0c-4d78-9a07-0c21d962fce2",
   "metadata": {},
   "source": [
    "**OBSERVATION**"
   ]
  },
  {
   "cell_type": "markdown",
   "id": "18fe3d80-4c5c-4686-9ac5-2a12616d05af",
   "metadata": {},
   "source": [
    "* **The no. of Movies are more than the number of TV Shows**\n",
    "* **Movies are 97.5% and tv shows are 2.5%**"
   ]
  },
  {
   "cell_type": "markdown",
   "id": "c1dd2284-5f5a-4e6f-a835-6aa98d522fe2",
   "metadata": {},
   "source": [
    "## Visualize the Distribution of Content by Country"
   ]
  },
  {
   "cell_type": "code",
   "execution_count": 706,
   "id": "21ac9c03-ad0e-462a-854c-093a58771300",
   "metadata": {},
   "outputs": [
    {
     "data": {
      "image/png": "[encoded data removed]",
      "text/plain": [
       "<Figure size 640x480 with 1 Axes>"
      ]
     },
     "metadata": {},
     "output_type": "display_data"
    }
   ],
   "source": [
    "a=df['country'].value_counts().head(10)\n",
    "plt.bar(x=a.index,height=a.values,color='brown')\n",
    "plt.xticks(rotation=45,ha='right')\n",
    "plt.xlabel('country')\n",
    "plt.ylabel('content')\n",
    "plt.show()"
   ]
  },
  {
   "cell_type": "markdown",
   "id": "6a65e4ec-5f55-453f-9389-0062dc0c37c2",
   "metadata": {},
   "source": [
    "**OBSERVATION**"
   ]
  },
  {
   "cell_type": "markdown",
   "id": "1bcd0368-c75b-4598-a2b5-5d8e988322ff",
   "metadata": {},
   "source": [
    "* **The most content is created by Unites States with more than 1200 number of content**\n",
    "* **The least content is created by France with less than 200 number of content**"
   ]
  },
  {
   "cell_type": "code",
   "execution_count": null,
   "id": "ac8cbcb7-8efb-4439-b5b3-68abded98f62",
   "metadata": {},
   "outputs": [],
   "source": []
  }
 ],
 "metadata": {
  "kernelspec": {
   "display_name": "Python 3 (ipykernel)",
   "language": "python",
   "name": "python3"
  },
  "language_info": {
   "codemirror_mode": {
    "name": "ipython",
    "version": 3
   },
   "file_extension": ".py",
   "mimetype": "text/x-python",
   "name": "python",
   "nbconvert_exporter": "python",
   "pygments_lexer": "ipython3",
   "version": "3.12.7"
  }
 },
 "nbformat": 4,
 "nbformat_minor": 5
}
